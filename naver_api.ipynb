{
 "cells": [
  {
   "cell_type": "code",
   "execution_count": 26,
   "id": "bronze-acceptance",
   "metadata": {
    "scrolled": true
   },
   "outputs": [],
   "source": [
    "import os\n",
    "import sys\n",
    "import urllib.request\n",
    "\n",
    "client_id = \"Pw_M2KnK_vaMSlbfN8xU\"\n",
    "client_secret = \"hAsVwFY6jg\"\n",
    "display = \"10\"\n",
    "sort = \"sim\"\n",
    "\n",
    "encText = urllib.parse.quote(\"빅데이터\")\n",
    "\n",
    "url = \"https://openapi.naver.com/v1/search/news.json?query=\" + encText + \"&display=\" + display + \"&sort=\" + sort\n",
    "\n",
    "request = urllib.request.Request(url)\n",
    "request.add_header(\"X-Naver-Client-Id\", client_id)\n",
    "request.add_header(\"X-Naver-Client-Secret\", client_secret)\n",
    "# request.display(20)\n",
    "\n",
    "response = urllib.request.urlopen(request)\n",
    "\n",
    "rescode = response.getcode()\n",
    "\n",
    "if(rescode == 200):\n",
    "    response_body = response.read()\n",
    "    encoded_text = response_body.decode('utf-8')\n",
    "    #print(encoded_text)\n",
    "else:\n",
    "    print(\"Error Code:\"+rescode)"
   ]
  },
  {
   "cell_type": "code",
   "execution_count": 27,
   "id": "figured-scientist",
   "metadata": {},
   "outputs": [],
   "source": [
    "with open(\"naver_news2.txt\", \"w\", encoding = 'utf-8') as f:\n",
    "    f.write(encoded_text)\n",
    "f.close()"
   ]
  },
  {
   "cell_type": "code",
   "execution_count": 3,
   "id": "sweet-athens",
   "metadata": {},
   "outputs": [],
   "source": [
    "from ast import literal_eval\n",
    "data_dict = literal_eval(encoded_text)"
   ]
  },
  {
   "cell_type": "code",
   "execution_count": 4,
   "id": "recognized-prayer",
   "metadata": {},
   "outputs": [
    {
     "data": {
      "text/plain": [
       "20"
      ]
     },
     "execution_count": 4,
     "metadata": {},
     "output_type": "execute_result"
    }
   ],
   "source": [
    "data_dict['display']"
   ]
  },
  {
   "cell_type": "code",
   "execution_count": null,
   "id": "sustainable-shanghai",
   "metadata": {},
   "outputs": [],
   "source": []
  }
 ],
 "metadata": {
  "kernelspec": {
   "display_name": "Python 3",
   "language": "python",
   "name": "python3"
  },
  "language_info": {
   "codemirror_mode": {
    "name": "ipython",
    "version": 3
   },
   "file_extension": ".py",
   "mimetype": "text/x-python",
   "name": "python",
   "nbconvert_exporter": "python",
   "pygments_lexer": "ipython3",
   "version": "3.7.9"
  }
 },
 "nbformat": 4,
 "nbformat_minor": 5
}
