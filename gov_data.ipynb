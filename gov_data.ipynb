{
 "cells": [
  {
   "cell_type": "code",
   "execution_count": 54,
   "id": "affecting-kernel",
   "metadata": {},
   "outputs": [],
   "source": [
    "from urllib.request import Request, urlopen\n",
    "from urllib.parse import urlencode, quote_plus\n",
    "import json\n",
    "import xmltodict\n",
    "import pandas as pd\n",
    "\n",
    "url = 'http://openapi.data.go.kr/openapi/service/rest/Covid19/getCovid19InfStateJson'\n",
    "queryParams = '?' + urlencode({ quote_plus('ServiceKey') : 'n+Owc2NrKuWwnL8KZguOwU+e6V/N+daQW96x+HaqRxD9qwvh6PrF4RPbzdl5P2JGtmQDnMmN1nkeNayTwuTaeg==',\n",
    "                               quote_plus('pageNo') : '1',\n",
    "                               quote_plus('numOfRows') : '10',\n",
    "                               quote_plus('startCreateDt') : '20210101',\n",
    "                               quote_plus('endCreateDt') : '20210401' })\n",
    "\n",
    "request = Request(url + queryParams)\n",
    "request.get_method = lambda: 'GET'\n",
    "u = urlopen(request)\n",
    "response_body = u.read()"
   ]
  },
  {
   "cell_type": "code",
   "execution_count": 55,
   "id": "muslim-trinity",
   "metadata": {},
   "outputs": [],
   "source": [
    "result = xmltodict.parse(response_body)\n",
    "json_val = json.dumps(result, indent=4)"
   ]
  },
  {
   "cell_type": "code",
   "execution_count": 47,
   "id": "located-vancouver",
   "metadata": {},
   "outputs": [],
   "source": [
    "with open(\"val.json\",\"w\", encoding = 'utf-8') as f:\n",
    "    f.write(json_val)\n",
    "f.close()"
   ]
  },
  {
   "cell_type": "code",
   "execution_count": 48,
   "id": "median-sigma",
   "metadata": {},
   "outputs": [],
   "source": [
    "with open(\"val.json\", \"r\") as f:\n",
    "    data= json.load(f)\n",
    "f.close()"
   ]
  },
  {
   "cell_type": "code",
   "execution_count": 49,
   "id": "cooperative-commissioner",
   "metadata": {
    "collapsed": true
   },
   "outputs": [
    {
     "data": {
      "text/plain": [
       "{'accDefRate': '1.4755317026',\n",
       " 'accExamCnt': '5061279',\n",
       " 'accExamCompCnt': '4901894',\n",
       " 'careCnt': '12827',\n",
       " 'clearCnt': '58253',\n",
       " 'createDt': '2021-01-17 15:27:58.692',\n",
       " 'deathCnt': '1249',\n",
       " 'decideCnt': '72329',\n",
       " 'examCnt': '159385',\n",
       " 'resutlNegCnt': '4829565',\n",
       " 'seq': '487',\n",
       " 'stateDt': '20210117',\n",
       " 'stateTime': '00:00',\n",
       " 'updateDt': '2021-04-20 15:29:06.35'}"
      ]
     },
     "execution_count": 49,
     "metadata": {},
     "output_type": "execute_result"
    }
   ],
   "source": [
    "data['response']['body']['items']['item'][0]"
   ]
  },
  {
   "cell_type": "code",
   "execution_count": 50,
   "id": "needed-marine",
   "metadata": {},
   "outputs": [],
   "source": [
    "df = pd.DataFrame(data['response']['body']['items']['item'])"
   ]
  },
  {
   "cell_type": "code",
   "execution_count": 51,
   "id": "sustained-assault",
   "metadata": {
    "scrolled": true
   },
   "outputs": [],
   "source": [
    "df = df[['seq','stateDt','stateTime','decideCnt','clearCnt','examCnt',\n",
    "         'deathCnt','careCnt','resutlNegCnt','accExamCnt','accExamCompCnt','accDefRate','createDt','updateDt']]"
   ]
  },
  {
   "cell_type": "code",
   "execution_count": 52,
   "id": "extensive-entity",
   "metadata": {},
   "outputs": [],
   "source": [
    "df = df.rename(columns = {'seq':'게시글번호','stateDt':'기준일','stateTime':'기준시간',\n",
    "                          'decideCnt':'확진자 수','clearCnt':'격리해제 수','examCnt':'검사진행 수',\n",
    "                          'deathCnt':'사망자 수','careCnt':'치료중 환자 수','resutlNegCnt':'결과 음성 수',\n",
    "                          'accExamCnt':'누적 검사 수','accExamCompCnt':'누적 검사 완료 수','accDefRate':'누적 확진률',\n",
    "                          'createDt':'등록일시분초','updateDt':'수정일시분초'})"
   ]
  },
  {
   "cell_type": "code",
   "execution_count": 53,
   "id": "latin-switch",
   "metadata": {},
   "outputs": [],
   "source": [
    "df.to_csv(\"result.csv\",encoding='utf-8-sig')"
   ]
  },
  {
   "cell_type": "code",
   "execution_count": 56,
   "id": "entitled-mentor",
   "metadata": {},
   "outputs": [],
   "source": [
    "import matplotlib.pyplot as plt"
   ]
  },
  {
   "cell_type": "code",
   "execution_count": 64,
   "id": "charged-surgery",
   "metadata": {},
   "outputs": [],
   "source": [
    "df['기준일'] = pd.to_numeric(df['기준일'])"
   ]
  },
  {
   "cell_type": "code",
   "execution_count": 65,
   "id": "indonesian-office",
   "metadata": {},
   "outputs": [],
   "source": [
    "df['확진자 수'] = pd.to_numeric(df['확진자 수'])"
   ]
  },
  {
   "cell_type": "code",
   "execution_count": 73,
   "id": "established-board",
   "metadata": {},
   "outputs": [
    {
     "data": {
      "text/plain": [
       "<AxesSubplot:xlabel='기준일'>"
      ]
     },
     "execution_count": 73,
     "metadata": {},
     "output_type": "execute_result"
    },
    {
     "name": "stderr",
     "output_type": "stream",
     "text": [
      "C:\\Users\\USER\\anaconda3\\envs\\tens_2gpu\\lib\\site-packages\\matplotlib\\backends\\backend_agg.py:238: RuntimeWarning: Glyph 44592 missing from current font.\n",
      "  font.set_text(s, 0.0, flags=flags)\n",
      "C:\\Users\\USER\\anaconda3\\envs\\tens_2gpu\\lib\\site-packages\\matplotlib\\backends\\backend_agg.py:238: RuntimeWarning: Glyph 51456 missing from current font.\n",
      "  font.set_text(s, 0.0, flags=flags)\n",
      "C:\\Users\\USER\\anaconda3\\envs\\tens_2gpu\\lib\\site-packages\\matplotlib\\backends\\backend_agg.py:238: RuntimeWarning: Glyph 51068 missing from current font.\n",
      "  font.set_text(s, 0.0, flags=flags)\n",
      "C:\\Users\\USER\\anaconda3\\envs\\tens_2gpu\\lib\\site-packages\\matplotlib\\backends\\backend_agg.py:238: RuntimeWarning: Glyph 54869 missing from current font.\n",
      "  font.set_text(s, 0.0, flags=flags)\n",
      "C:\\Users\\USER\\anaconda3\\envs\\tens_2gpu\\lib\\site-packages\\matplotlib\\backends\\backend_agg.py:238: RuntimeWarning: Glyph 51652 missing from current font.\n",
      "  font.set_text(s, 0.0, flags=flags)\n",
      "C:\\Users\\USER\\anaconda3\\envs\\tens_2gpu\\lib\\site-packages\\matplotlib\\backends\\backend_agg.py:238: RuntimeWarning: Glyph 51088 missing from current font.\n",
      "  font.set_text(s, 0.0, flags=flags)\n",
      "C:\\Users\\USER\\anaconda3\\envs\\tens_2gpu\\lib\\site-packages\\matplotlib\\backends\\backend_agg.py:238: RuntimeWarning: Glyph 49688 missing from current font.\n",
      "  font.set_text(s, 0.0, flags=flags)\n",
      "C:\\Users\\USER\\anaconda3\\envs\\tens_2gpu\\lib\\site-packages\\matplotlib\\backends\\backend_agg.py:201: RuntimeWarning: Glyph 44592 missing from current font.\n",
      "  font.set_text(s, 0, flags=flags)\n",
      "C:\\Users\\USER\\anaconda3\\envs\\tens_2gpu\\lib\\site-packages\\matplotlib\\backends\\backend_agg.py:201: RuntimeWarning: Glyph 51456 missing from current font.\n",
      "  font.set_text(s, 0, flags=flags)\n",
      "C:\\Users\\USER\\anaconda3\\envs\\tens_2gpu\\lib\\site-packages\\matplotlib\\backends\\backend_agg.py:201: RuntimeWarning: Glyph 51068 missing from current font.\n",
      "  font.set_text(s, 0, flags=flags)\n",
      "C:\\Users\\USER\\anaconda3\\envs\\tens_2gpu\\lib\\site-packages\\matplotlib\\backends\\backend_agg.py:201: RuntimeWarning: Glyph 54869 missing from current font.\n",
      "  font.set_text(s, 0, flags=flags)\n",
      "C:\\Users\\USER\\anaconda3\\envs\\tens_2gpu\\lib\\site-packages\\matplotlib\\backends\\backend_agg.py:201: RuntimeWarning: Glyph 51652 missing from current font.\n",
      "  font.set_text(s, 0, flags=flags)\n",
      "C:\\Users\\USER\\anaconda3\\envs\\tens_2gpu\\lib\\site-packages\\matplotlib\\backends\\backend_agg.py:201: RuntimeWarning: Glyph 51088 missing from current font.\n",
      "  font.set_text(s, 0, flags=flags)\n",
      "C:\\Users\\USER\\anaconda3\\envs\\tens_2gpu\\lib\\site-packages\\matplotlib\\backends\\backend_agg.py:201: RuntimeWarning: Glyph 49688 missing from current font.\n",
      "  font.set_text(s, 0, flags=flags)\n"
     ]
    },
    {
     "data": {
      "image/png": "[encoded data removed]",
      "text/plain": [
       "<Figure size 432x288 with 1 Axes>"
      ]
     },
     "metadata": {
      "needs_background": "light"
     },
     "output_type": "display_data"
    }
   ],
   "source": [
    "df.plot(kind='line',x='기준일', y='확진자 수')"
   ]
  },
  {
   "cell_type": "code",
   "execution_count": 76,
   "id": "fifteen-diameter",
   "metadata": {},
   "outputs": [
    {
     "data": {
      "image/png": "[encoded data removed]",
      "text/plain": [
       "<Figure size 432x288 with 1 Axes>"
      ]
     },
     "metadata": {
      "needs_background": "light"
     },
     "output_type": "display_data"
    }
   ],
   "source": [
    "plt.plot(df['확진자 수'])\n",
    "plt.gca().invert_xaxis()"
   ]
  },
  {
   "cell_type": "code",
   "execution_count": null,
   "id": "ambient-daughter",
   "metadata": {},
   "outputs": [],
   "source": []
  }
 ],
 "metadata": {
  "kernelspec": {
   "display_name": "Python 3",
   "language": "python",
   "name": "python3"
  },
  "language_info": {
   "codemirror_mode": {
    "name": "ipython",
    "version": 3
   },
   "file_extension": ".py",
   "mimetype": "text/x-python",
   "name": "python",
   "nbconvert_exporter": "python",
   "pygments_lexer": "ipython3",
   "version": "3.7.9"
  }
 },
 "nbformat": 4,
 "nbformat_minor": 5
}
